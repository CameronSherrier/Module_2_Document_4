{
 "cells": [
  {
   "cell_type": "markdown",
   "metadata": {},
   "source": [
    "# Object-Oriented-Programming (OOP)"
   ]
  },
  {
   "cell_type": "markdown",
   "metadata": {},
   "source": [
    "## Tasks Today:\n",
    "\n",
    "   \n",
    "\n",
    "1) <b>Creating a Class (Initializing/Declaring)</b> <br>\n",
    "2) <b>Using a Class (Instantiating)</b> <br>\n",
    " &nbsp;&nbsp;&nbsp;&nbsp; a) Creating One Instance <br>\n",
    " &nbsp;&nbsp;&nbsp;&nbsp; b) Creating Multiple Instances <br>\n",
    " &nbsp;&nbsp;&nbsp;&nbsp; c) In-Class Exercise #1 - Create a Class 'Car' and instantiate three different makes of cars <br>\n",
    "3) <b>The \\__init\\__() Method</b> <br>\n",
    " &nbsp;&nbsp;&nbsp;&nbsp; a) The 'self' Attribute <br>\n",
    "4) <b>Class Attributes</b> <br>\n",
    " &nbsp;&nbsp;&nbsp;&nbsp; a) Initializing Attributes <br>\n",
    " &nbsp;&nbsp;&nbsp;&nbsp; b) Setting an Attribute Outside of the \\__init\\__() Method <br>\n",
    " &nbsp;&nbsp;&nbsp;&nbsp; c) Setting Defaults for Attributes <br>\n",
    " &nbsp;&nbsp;&nbsp;&nbsp; d) Accessing Class Attributes <br>\n",
    " &nbsp;&nbsp;&nbsp;&nbsp; e) Changing Class Attributes <br>\n",
    " &nbsp;&nbsp;&nbsp;&nbsp; f) In-Class Exercise #2 - Add a color and wheels attribute to your 'Car' class <br>\n",
    "5) <b>Class Methods</b> <br>\n",
    " &nbsp;&nbsp;&nbsp;&nbsp; a) Creating <br>\n",
    " &nbsp;&nbsp;&nbsp;&nbsp; b) Calling <br>\n",
    " &nbsp;&nbsp;&nbsp;&nbsp; c) Modifying an Attribute's Value Through a Method <br>\n",
    " &nbsp;&nbsp;&nbsp;&nbsp; d) Incrementing an Attribute's Value Through a Method <br>\n",
    " &nbsp;&nbsp;&nbsp;&nbsp; e) In-Class Exercise #3 - Add a method that prints the cars color and wheel number, then call them <br>\n",
    "6) <b>Inheritance</b> <br>\n",
    " &nbsp;&nbsp;&nbsp;&nbsp; a) Syntax for Inheriting from a Parent Class <br>\n",
    " &nbsp;&nbsp;&nbsp;&nbsp; b) The \\__init\\__() Method for a Child Class (super()) <br>\n",
    " &nbsp;&nbsp;&nbsp;&nbsp; c) Defining Attributes and Methods for the Child Class <br>\n",
    " &nbsp;&nbsp;&nbsp;&nbsp; d) Method Overriding <br>\n",
    " &nbsp;&nbsp;&nbsp;&nbsp; e) In-Class Exercise #4 - Create a class 'Ford' that inherits from 'Car' class and initialize it as a Blue Ford Explorer with 4 wheels using the super() method <br>\n",
    "7) <b>Classes as Attributes</b> <br>\n",
    "8) <b>Exercises</b> <br>\n",
    " &nbsp;&nbsp;&nbsp;&nbsp; a) Exercise #1 - Turn the shopping cart program from yesterday into an object-oriented program <br>"
   ]
  },
  {
   "cell_type": "markdown",
   "metadata": {},
   "source": [
    "## Creating a Class (Initializing/Declaring)\n",
    "<p>When creating a class, function, or even a variable you are initializing that object. Initializing and Declaring occur at the same time in Python, whereas in lower level languages you have to declare an object before initializing it. This is the first step in the process of using a class.</p>"
   ]
  },
  {
   "cell_type": "code",
   "execution_count": 2,
   "metadata": {},
   "outputs": [],
   "source": [
    "class Car():\n",
    "    wheels = 4\n",
    "    color = 'blue'\n",
    "    windshield_wipers = \"wee woo wee woo\""
   ]
  },
  {
   "cell_type": "markdown",
   "metadata": {},
   "source": [
    "## Using a Class (Instantiating)\n",
    "<p>The process of creating a class is called <i>Instantiating</i>. Each time you create a variable of that type of class, it is referred to as an <i>Instance</i> of that class. This is the second step in the process of using a class.</p>"
   ]
  },
  {
   "cell_type": "markdown",
   "metadata": {},
   "source": [
    "##### Creating One Instance"
   ]
  },
  {
   "cell_type": "code",
   "execution_count": 4,
   "metadata": {},
   "outputs": [
    {
     "ename": "AttributeError",
     "evalue": "'Car' object has no attribute 'windshield_wipers'",
     "output_type": "error",
     "traceback": [
      "\u001b[1;31m---------------------------------------------------------------------------\u001b[0m",
      "\u001b[1;31mAttributeError\u001b[0m                            Traceback (most recent call last)",
      "Input \u001b[1;32mIn [4]\u001b[0m, in \u001b[0;36m<cell line: 3>\u001b[1;34m()\u001b[0m\n\u001b[0;32m      1\u001b[0m ford \u001b[38;5;241m=\u001b[39m Car()\n\u001b[1;32m----> 3\u001b[0m \u001b[38;5;28mprint\u001b[39m(\u001b[43mford\u001b[49m\u001b[38;5;241;43m.\u001b[39;49m\u001b[43mwindshield_wipers\u001b[49m)\n",
      "\u001b[1;31mAttributeError\u001b[0m: 'Car' object has no attribute 'windshield_wipers'"
     ]
    }
   ],
   "source": [
    "ford = Car()\n",
    "\n",
    "print(ford.windshield_wipers)"
   ]
  },
  {
   "cell_type": "markdown",
   "metadata": {},
   "source": [
    "##### Creating Multiple Instances"
   ]
  },
  {
   "cell_type": "code",
   "execution_count": null,
   "metadata": {},
   "outputs": [],
   "source": [
    "chevy = Car()\n",
    "honda = Car()\n",
    "porsche = Car()\n",
    "\n"
   ]
  },
  {
   "cell_type": "markdown",
   "metadata": {},
   "source": [
    "##### In-Class Exercise #1 - Create a Class 'Car' and Instantiate three different makes of cars"
   ]
  },
  {
   "cell_type": "code",
   "execution_count": 5,
   "metadata": {},
   "outputs": [
    {
     "name": "stdout",
     "output_type": "stream",
     "text": [
      "red\n",
      "electric\n",
      "2\n"
     ]
    }
   ],
   "source": [
    "class Mycar():\n",
    "    doors = 2\n",
    "    color = 'red'\n",
    "    wheels = 4\n",
    "    style = 'electric'\n",
    "\n",
    "toyota = Mycar()\n",
    "nissan = Mycar()\n",
    "volks = Mycar()\n",
    "\n",
    "print(toyota.color)\n",
    "print(nissan.style)\n",
    "print(volks.doors)"
   ]
  },
  {
   "cell_type": "markdown",
   "metadata": {},
   "source": [
    "## The \\__init\\__() Method <br>\n",
    "<p>This method is used in almost every created class, and called only once upon the creation of the class instance. This method will initialize all variables needed for the object.</p>"
   ]
  },
  {
   "cell_type": "code",
   "execution_count": 7,
   "metadata": {},
   "outputs": [
    {
     "name": "stdout",
     "output_type": "stream",
     "text": [
      "black\n",
      "6\n"
     ]
    }
   ],
   "source": [
    "class Car():\n",
    "    engine = '4.7L' # Global within the class - any method inside the class can call upon this variable\n",
    "    \n",
    "    def __init__(self, color, wheels):\n",
    "        self.color = color\n",
    "        self.wheels = wheels\n",
    "\n",
    "mazda = Car('black', 4)\n",
    "subaru = Car('blue', 6)\n",
    "\n",
    "print(mazda.color)\n",
    "print(subaru.wheels)"
   ]
  },
  {
   "cell_type": "markdown",
   "metadata": {},
   "source": [
    "##### The 'self' Attribute <br>\n",
    "<p>This attribute is required to keep track of specific instance's attributes. Without the self attribute, the program would not know how to reference or keep track of an instance's attributes.</p>"
   ]
  },
  {
   "cell_type": "code",
   "execution_count": null,
   "metadata": {},
   "outputs": [],
   "source": [
    "# see above"
   ]
  },
  {
   "cell_type": "markdown",
   "metadata": {},
   "source": [
    "## Class Attributes <br>\n",
    "<p>While variables are inside of a class, they are referred to as attributes and not variables. When someone says 'attribute' you know they're speaking about a class. Attributes can be initialized through the init method, or outside of it.</p>"
   ]
  },
  {
   "cell_type": "markdown",
   "metadata": {},
   "source": [
    "##### Initializing Attributes"
   ]
  },
  {
   "cell_type": "code",
   "execution_count": 9,
   "metadata": {},
   "outputs": [],
   "source": [
    "# see above\n",
    "\n",
    "class Toy():\n",
    "    kind = 'car' # This is called a constant\n",
    "    \n",
    "    def __init__(self, rooftop, horn, wheels):\n",
    "        self.rooftop = rooftop # These are attributes\n",
    "        self.horn = horn\n",
    "        self.wheels = wheels\n",
    "        \n",
    "tonka_truck = Toy(1,1,4) # 1 Rooftop, 1 horn, 4 wheels\n",
    "hotwheels_car = Toy(2,3,8) # 2 rooftops, 3 horns, 8 wheels"
   ]
  },
  {
   "cell_type": "markdown",
   "metadata": {},
   "source": [
    "##### Accessing Class Attributes"
   ]
  },
  {
   "cell_type": "code",
   "execution_count": 10,
   "metadata": {
    "scrolled": true
   },
   "outputs": [
    {
     "data": {
      "text/plain": [
       "8"
      ]
     },
     "execution_count": 10,
     "metadata": {},
     "output_type": "execute_result"
    }
   ],
   "source": [
    "# See Above\n",
    "\n",
    "tonka_truck.rooftop\n",
    "hotwheels_car.wheels"
   ]
  },
  {
   "cell_type": "markdown",
   "metadata": {},
   "source": [
    "##### Setting Defaults for Attributes"
   ]
  },
  {
   "cell_type": "code",
   "execution_count": 11,
   "metadata": {},
   "outputs": [
    {
     "data": {
      "text/plain": [
       "'Blue'"
      ]
     },
     "execution_count": 11,
     "metadata": {},
     "output_type": "execute_result"
    }
   ],
   "source": [
    "class Car():\n",
    "    engine = '4.7L'\n",
    "    \n",
    "    def __init__(self, wheels):\n",
    "        self.wheels = wheels\n",
    "        self.color = 'Blue'\n",
    "\n",
    "honda = Car(4)\n",
    "honda.color"
   ]
  },
  {
   "cell_type": "markdown",
   "metadata": {},
   "source": [
    "##### Changing Class Attributes <br>\n",
    "<p>Keep in mind there are global class attributes and then there are attributes only available to each class instance which won't effect other classes.</p>"
   ]
  },
  {
   "cell_type": "code",
   "execution_count": 13,
   "metadata": {},
   "outputs": [
    {
     "name": "stdout",
     "output_type": "stream",
     "text": [
      "Before change: Blue\n",
      "\n",
      "After Change: White\n",
      "Blue\n"
     ]
    }
   ],
   "source": [
    "jeep = Car(8)\n",
    "\n",
    "print(f'Before change: {jeep.color}')\n",
    "\n",
    "jeep.color = 'White'\n",
    "\n",
    "print(f'\\nAfter Change: {jeep.color}')\n",
    "print(honda.color)"
   ]
  },
  {
   "cell_type": "code",
   "execution_count": null,
   "metadata": {},
   "outputs": [],
   "source": []
  },
  {
   "cell_type": "markdown",
   "metadata": {},
   "source": [
    "##### In-Class Exercise #2 - Add a doors and seats attribute to your 'Car' class then print out two different instances with different doors and seats"
   ]
  },
  {
   "cell_type": "code",
   "execution_count": 19,
   "metadata": {},
   "outputs": [
    {
     "name": "stdout",
     "output_type": "stream",
     "text": [
      "2\n",
      "4\n",
      "4\n",
      "8\n"
     ]
    }
   ],
   "source": [
    "class Car():\n",
    "    engine = '4.7L'\n",
    "    \n",
    "    def __init__(self, wheels, doors, seats):\n",
    "        self.wheels = wheels\n",
    "        self.color = 'Blue'\n",
    "        self.doors = doors\n",
    "        self.seats = seats\n",
    "\n",
    "mycar = Car(4, 2, 4)\n",
    "fiance_car = Car(4, 4, 8)\n",
    "\n",
    "print(mycar.doors)\n",
    "print(fiance_car.doors)\n",
    "print(mycar.seats)\n",
    "print(fiance_car.seats)"
   ]
  },
  {
   "cell_type": "markdown",
   "metadata": {},
   "source": [
    "## Class Methods <br>\n",
    "<p>While inside of a class, functions are referred to as 'methods'. If you hear someone mention methods, they're speaking about classes. Methods are essentially functions, but only callable on the instances of a class.</p>"
   ]
  },
  {
   "cell_type": "markdown",
   "metadata": {},
   "source": [
    "##### Creating"
   ]
  },
  {
   "cell_type": "code",
   "execution_count": 26,
   "metadata": {},
   "outputs": [],
   "source": [
    "class ShoppingBag():\n",
    "    \"\"\"\n",
    "        The Shopping Bag class will have handles, capacity,\n",
    "        and items to place inside:\n",
    "        \n",
    "        Attributes for the class:\n",
    "        - handles: expected to be integer\n",
    "        - capacity: expected to be a string OR an integer\n",
    "        - items: expected to be a list\n",
    "    \"\"\"\n",
    "    def __init__(self, handles, capacity, items):\n",
    "        self.handles = handles\n",
    "        self.capacity = capacity\n",
    "        self.items = items\n",
    "        \n",
    "    # Write a method that shows the items in our ShoppingBag / this is our items list:\n",
    "    def showShoppingBag(self):\n",
    "        if self.items == []:\n",
    "            print(\"You don't have any items in your list\")\n",
    "        else:\n",
    "            print(\"You have items in your bag!:\")\n",
    "            for item in self.items:\n",
    "                print(item)\n",
    "    \n",
    "    # Show the capacity of the ShoppingBag - how much room is left\n",
    "    def showCapacity(self):\n",
    "        print(f'Your capacity is: {self.capacity}')\n",
    "    \n",
    "    # Add item(s) to the items list for the ShoppingBag\n",
    "    def addToShoppingBag(self):\n",
    "        products = input(\"What would you like to add? \")\n",
    "        \n",
    "        if len(self.items) >= self.capacity:\n",
    "            print(\"Your bag is full! Please check out\")\n",
    "        elif len(self.items) < self.capacity:\n",
    "            self.items.append(products)\n",
    "    \n",
    "    # Change the capacity of the ShoppingBag\n",
    "    def changeBagCapacity(self, capacity):\n",
    "        self.capacity = capacity\n",
    "        \n",
    "    # Increase the capacity of the ShoppingBag by a default amount that we set to 10\n",
    "    def increaseCapacity(self, changed_capacity = 10):\n",
    "        if self.capacity == isinstance(self.capacity, str):\n",
    "            print(\"We can't add that here\")\n",
    "        else:\n",
    "            self.capacity += changed_capacity\n",
    "    "
   ]
  },
  {
   "cell_type": "markdown",
   "metadata": {},
   "source": [
    "##### Calling"
   ]
  },
  {
   "cell_type": "code",
   "execution_count": 27,
   "metadata": {},
   "outputs": [
    {
     "name": "stdout",
     "output_type": "stream",
     "text": [
      "What do you want to do? add/show/quit add\n",
      "What would you like to add? grapes\n",
      "What do you want to do? add/show/quit add\n",
      "What would you like to add? tomatoes\n",
      "What do you want to do? add/show/quit add\n",
      "What would you like to add? squash\n",
      "What do you want to do? add/show/quit add\n",
      "What would you like to add? carrots\n",
      "What do you want to do? add/show/quit add\n",
      "What would you like to add? apples\n",
      "What do you want to do? add/show/quit add\n",
      "What would you like to add? pineapples\n",
      "What do you want to do? add/show/quit add chia seeds\n",
      "Try another command\n",
      "What do you want to do? add/show/quit add\n",
      "What would you like to add? chia seeds\n",
      "What do you want to do? add/show/quit show\n",
      "You have items in your bag!:\n",
      "grapes\n",
      "tomatoes\n",
      "squash\n",
      "carrots\n",
      "apples\n",
      "pineapples\n",
      "chia seeds\n",
      "What do you want to do? add/show/quit add\n",
      "What would you like to add? tissues\n",
      "What do you want to do? add/show/quit add\n",
      "What would you like to add? q tips\n",
      "What do you want to do? add/show/quit add\n",
      "What would you like to add? pens\n",
      "What do you want to do? add/show/quit show\n",
      "You have items in your bag!:\n",
      "grapes\n",
      "tomatoes\n",
      "squash\n",
      "carrots\n",
      "apples\n",
      "pineapples\n",
      "chia seeds\n",
      "tissues\n",
      "q tips\n",
      "pens\n",
      "What do you want to do? add/show/quit add\n",
      "What would you like to add? celery\n",
      "Your bag is full! Please check out\n",
      "What do you want to do? add/show/quit show\n",
      "You have items in your bag!:\n",
      "grapes\n",
      "tomatoes\n",
      "squash\n",
      "carrots\n",
      "apples\n",
      "pineapples\n",
      "chia seeds\n",
      "tissues\n",
      "q tips\n",
      "pens\n",
      "What do you want to do? add/show/quit quit\n",
      "You have items in your bag!:\n",
      "grapes\n",
      "tomatoes\n",
      "squash\n",
      "carrots\n",
      "apples\n",
      "pineapples\n",
      "chia seeds\n",
      "tissues\n",
      "q tips\n",
      "pens\n",
      "Thanks for shopping\n"
     ]
    }
   ],
   "source": [
    "# See Above\n",
    "# So far, we created the idea of the shopping bag; now we will actually instantiate and MAKE one, and use it!\n",
    "wholeFoods_bag = ShoppingBag(2, 10, [])\n",
    "\n",
    "# Create a function to run the ShoppingBag methods on our wholeFoods_bag instance\n",
    "def run():\n",
    "    while True:\n",
    "        response = input(\"What do you want to do? add/show/quit \")\n",
    "        \n",
    "        if response.lower() == 'quit':\n",
    "            wholeFoods_bag.showShoppingBag()\n",
    "            print(\"Thanks for shopping\")\n",
    "            break\n",
    "        elif response.lower() == 'add':\n",
    "            wholeFoods_bag.addToShoppingBag()\n",
    "        elif response.lower() == 'show':\n",
    "            wholeFoods_bag.showShoppingBag()\n",
    "        else:\n",
    "            print(\"Try another command\")\n",
    "\n",
    "run()"
   ]
  },
  {
   "cell_type": "markdown",
   "metadata": {},
   "source": [
    "##### Modifying an Attribute's Value Through a Method"
   ]
  },
  {
   "cell_type": "code",
   "execution_count": 28,
   "metadata": {},
   "outputs": [
    {
     "name": "stdout",
     "output_type": "stream",
     "text": [
      "Your capacity is: 10\n",
      "Capacity AFTER the change...\n",
      "Your capacity is: 40\n"
     ]
    }
   ],
   "source": [
    "# Show the capacity\n",
    "wholeFoods_bag.showCapacity()\n",
    "print(\"Capacity AFTER the change...\")\n",
    "wholeFoods_bag.changeBagCapacity(40)\n",
    "wholeFoods_bag.showCapacity()"
   ]
  },
  {
   "cell_type": "markdown",
   "metadata": {},
   "source": [
    "##### Incrementing an Attribute's Value Through a Method"
   ]
  },
  {
   "cell_type": "code",
   "execution_count": 30,
   "metadata": {},
   "outputs": [
    {
     "name": "stdout",
     "output_type": "stream",
     "text": [
      "Your capacity is: 40\n",
      "After increase:\n",
      "Your capacity is: 50\n"
     ]
    }
   ],
   "source": [
    "wholeFoods_bag.showCapacity()\n",
    "print(\"After increase:\")\n",
    "wholeFoods_bag.increaseCapacity()\n",
    "wholeFoods_bag.showCapacity()"
   ]
  },
  {
   "cell_type": "markdown",
   "metadata": {},
   "source": [
    "##### In-Class Exercise #3 - Add a method that takes in three parameters of year, doors and seats and prints out a formatted print statement with make, model, year, seats, and doors"
   ]
  },
  {
   "cell_type": "code",
   "execution_count": 36,
   "metadata": {},
   "outputs": [
    {
     "name": "stdout",
     "output_type": "stream",
     "text": [
      "This car is from 2019 and is a Toyota Tundra and has 4 doors and 8 seats\n"
     ]
    }
   ],
   "source": [
    "# Create class with 2 paramters inside of the __init__ which are make and model\n",
    "\n",
    "# Inside of the Car class create a method that has 4 parameter in total (self,year,door,seats)\n",
    "\n",
    "# Output: This car is from 2019 and is a Ford Expolorer and has 4 doors and 5 seats\n",
    "\n",
    "class CarExample():\n",
    "    \n",
    "    def __init__(self, make, model):\n",
    "        self.make = make\n",
    "        self.model = model\n",
    "    \n",
    "    def describeCar(self, year = 2019, doors = 4, seats = 8):\n",
    "        return f'This car is from {year} and is a {self.make} {self.model} and has {doors} doors and {seats} seats'\n",
    "\n",
    "car1 = CarExample('Toyota', 'Tundra')\n",
    "print(car1.describeCar())"
   ]
  },
  {
   "cell_type": "markdown",
   "metadata": {},
   "source": [
    "## Inheritance <br>\n",
    "<p>You can create a child-parent relationship between two classes by using inheritance. What this allows you to do is have overriding methods, but also inherit traits from the parent class. Think of it as an actual parent and child, the child will inherit the parent's genes, as will the classes in OOP</p>"
   ]
  },
  {
   "cell_type": "markdown",
   "metadata": {},
   "source": [
    "##### Syntax for Inheriting from a Parent Class"
   ]
  },
  {
   "cell_type": "code",
   "execution_count": 42,
   "metadata": {},
   "outputs": [
    {
     "name": "stdout",
     "output_type": "stream",
     "text": [
      "Bark\n",
      "Make some generic sound\n",
      "None\n",
      "9.8\n",
      "15\n"
     ]
    }
   ],
   "source": [
    "# Create a parent class and call it Animal\n",
    "class Animal():\n",
    "    acceleration = 9.8\n",
    "    \n",
    "    def __init__(self, name, species, legs = 4):\n",
    "        self.name = name\n",
    "        self.species = species\n",
    "        self.legs = legs\n",
    "    \n",
    "    # Generic Parent Method - This is not overriding anything\n",
    "    def makeSound(self):\n",
    "        print(\"Make some generic sound\")\n",
    "    \n",
    "# Now we are making our child class... Dog\n",
    "class Dog(Animal):\n",
    "    speed = 15\n",
    "    \n",
    "    def printInfo(self):\n",
    "        print(f'The Dog has {self.speed}mph in speed and {self.acceleration}')\n",
    "\n",
    "# Creation of our Grand-Child Class -- Mutt\n",
    "class Mutt(Dog):\n",
    "    color = \"Tan\"\n",
    "    \n",
    "    # Override the ANIMAL class - using the Dog class to overwrite the __init__ from Animal\n",
    "    def __init__(self, name, species, eye_color, legs = 4):\n",
    "        Dog.__init__(self, name, species, legs)\n",
    "        self.eye_color = eye_color\n",
    "            \n",
    "    # Override the makeSound method (which is coming from...ANIMAL\n",
    "    def makeSound(self):\n",
    "        noise = \"Bark\"\n",
    "        return noise\n",
    "    \n",
    "lassie = Dog('Lassie', 'Dog')\n",
    "basic_animal = Animal(\"Generic Animal Name\", \"Generic Animal Species\")\n",
    "buster = Mutt('Buster', 'Mut', \"Brown\")\n",
    "\n",
    "print(buster.makeSound())\n",
    "print(lassie.makeSound())\n",
    "print(buster.acceleration)\n",
    "# print(basic_animal.speed)\n",
    "print(buster.speed)"
   ]
  },
  {
   "cell_type": "markdown",
   "metadata": {},
   "source": [
    "##### The \\__init\\__() Method for a Child Class - super()"
   ]
  },
  {
   "cell_type": "code",
   "execution_count": 43,
   "metadata": {
    "scrolled": true
   },
   "outputs": [
    {
     "name": "stdout",
     "output_type": "stream",
     "text": [
      "Bark\n",
      "Make some generic sound\n",
      "None\n",
      "9.8\n",
      "15\n"
     ]
    }
   ],
   "source": [
    "class Puppy(Dog):\n",
    "    color = 'black and brown'\n",
    "    \n",
    "    # Override the Animal class __init__ (via Dog class)\n",
    "    def __init__(self, name, species, eye_color, legs = 4):\n",
    "        super().__init__(name, species,legs)\n",
    "        self.eye_color = eye_color\n",
    "        \n",
    "    # Override the makeSounds method\n",
    "    def makeSound(self):\n",
    "        noise = \"Bar\"\n",
    "        return noise\n",
    "\n",
    "lassie = Dog('Lassie', 'Dog')\n",
    "basic_animal = Animal(\"Generic Animal Name\", \"Generic Animal Species\")\n",
    "buster = Mutt('Buster', 'Mut', \"Brown\")\n",
    "\n",
    "print(buster.makeSound())\n",
    "print(lassie.makeSound())\n",
    "print(buster.acceleration)\n",
    "# print(basic_animal.speed)\n",
    "print(buster.speed)"
   ]
  },
  {
   "cell_type": "markdown",
   "metadata": {},
   "source": [
    "##### Defining Attributes and Methods for the Child Class"
   ]
  },
  {
   "cell_type": "code",
   "execution_count": null,
   "metadata": {},
   "outputs": [],
   "source": [
    "# See Above"
   ]
  },
  {
   "cell_type": "markdown",
   "metadata": {},
   "source": [
    "##### Method Overriding"
   ]
  },
  {
   "cell_type": "code",
   "execution_count": null,
   "metadata": {},
   "outputs": [],
   "source": [
    "# See Above"
   ]
  },
  {
   "cell_type": "markdown",
   "metadata": {},
   "source": [
    "## Classes as Attributes <br>\n",
    "<p>Classes can also be used as attributes within another class. This is useful in situations where you need to keep variables locally stored, instead of globally stored.</p>"
   ]
  },
  {
   "cell_type": "code",
   "execution_count": 47,
   "metadata": {},
   "outputs": [
    {
     "name": "stdout",
     "output_type": "stream",
     "text": [
      "20\n"
     ]
    },
    {
     "data": {
      "text/plain": [
       "'2019 Tesla Model X 20'"
      ]
     },
     "execution_count": 47,
     "metadata": {},
     "output_type": "execute_result"
    }
   ],
   "source": [
    "class Battery():\n",
    "    volts = 7.8\n",
    "    \n",
    "    def __init__(self, cells):\n",
    "        self.cells = cells\n",
    "\n",
    "class Car():\n",
    "    def __init__(self, year, make, model, battery):\n",
    "        self.year = year\n",
    "        self.make = make\n",
    "        self.model = model\n",
    "        self.battery = battery\n",
    "    \n",
    "    def printInfo(self):\n",
    "        return f'{self.year} {self.make} {self.model} {self.battery.cells}'\n",
    "\n",
    "my_battery = Battery(20)\n",
    "    \n",
    "tesla = Car(2019, \"Tesla\", \"Model X\", my_battery)\n",
    "print(tesla.battery.cells)\n",
    "tesla.printInfo()"
   ]
  },
  {
   "cell_type": "markdown",
   "metadata": {},
   "source": [
    "# Exercises"
   ]
  },
  {
   "cell_type": "markdown",
   "metadata": {},
   "source": [
    "### Exercise 1 - Turn the shopping cart program from yesterday into an object-oriented program\n",
    "\n",
    "The comments in the cell below are there as a guide for thinking about the problem. However, if you feel a different way is best for you and your own thought process, please do what feels best for you by all means."
   ]
  },
  {
   "cell_type": "code",
   "execution_count": 17,
   "metadata": {},
   "outputs": [
    {
     "name": "stdout",
     "output_type": "stream",
     "text": [
      "What would you like to do? [show, add, remove or quit]add\n",
      "What would you like to add? apple\n",
      "You have added: \"apple\" to your cart.\n",
      "What would you like to do? [show, add, remove or quit]quit\n",
      "These are your current items in your cart:\n",
      "['apple']\n",
      "Have a nice day!\n"
     ]
    }
   ],
   "source": [
    "# Create a class called cart that retains items and has methods to add, remove, and show\n",
    "\n",
    "class MyCart():\n",
    "    \n",
    "    def __init__(self, limit, items):\n",
    "        self.limit = limit\n",
    "        self.items = items\n",
    "        \n",
    "    def addToCart(self):\n",
    "        if len(self.items) >= self.limit:\n",
    "            print(\"Your cart is currently full, please remove some items\")\n",
    "        elif len(self.items) <= self.limit:\n",
    "            product = input(\"What would you like to add? \")\n",
    "            self.items.append(product)\n",
    "            print(f'You have added: \"{product}\" to your cart.')\n",
    "    \n",
    "    def removeFromCart(self):\n",
    "        print(self.items)\n",
    "        delete = input(\"Which item would you like to remove? \")\n",
    "        self.items.remove(delete)\n",
    "        print(f'You have removed {delete} from your list.')\n",
    "    \n",
    "    def showCartItems(self,):\n",
    "        if self.items == []:\n",
    "            print(\"You don't have any items in your cart at the moment.\")\n",
    "        else:\n",
    "            print(\"These are your current items in your cart:\")\n",
    "            print(self.items)\n",
    "\n",
    "wegmans_cart = MyCart(10, [])\n",
    "              \n",
    "def run():\n",
    "    while True:\n",
    "        \n",
    "        response = input(\"What would you like to do? [show, add, remove or quit]\")\n",
    "              \n",
    "        if response.lower() == \"quit\":\n",
    "              break\n",
    "        elif response.lower() == 'add':\n",
    "              wegmans_cart.addToCart()\n",
    "        elif response.lower() == 'remove':\n",
    "              wegmans_cart.removeFromCart()\n",
    "        elif response.lower() == 'show':\n",
    "              wegmans_cart.showCartItems()\n",
    "        else:\n",
    "              print(\"Please try a different command.\")\n",
    "    \n",
    "    wegmans_cart.showCartItems()\n",
    "    print(\"Have a nice day!\")\n",
    "\n",
    "run()"
   ]
  },
  {
   "cell_type": "markdown",
   "metadata": {},
   "source": [
    "### Exercise 2 - Write a Python class which has two methods get_String and print_String. get_String accept a string from the user and print_String print the string in upper case"
   ]
  },
  {
   "cell_type": "code",
   "execution_count": 47,
   "metadata": {},
   "outputs": [
    {
     "name": "stdout",
     "output_type": "stream",
     "text": [
      "Please enter a new string: hello\n",
      "HELLO\n"
     ]
    }
   ],
   "source": [
    "class StringExample():\n",
    "    \n",
    "    def __init__(self, info):\n",
    "        self.info = info\n",
    "        \n",
    "    def get_String(self):\n",
    "        self.info = input(\"Please enter a new string: \")\n",
    "    \n",
    "    def print_String(self):\n",
    "        print(self.info.upper())\n",
    "\n",
    "person1 = StringExample('test')\n",
    "person1.get_String()\n",
    "person1.print_String()\n"
   ]
  },
  {
   "cell_type": "code",
   "execution_count": null,
   "metadata": {},
   "outputs": [],
   "source": []
  }
 ],
 "metadata": {
  "kernelspec": {
   "display_name": "Python 3 (ipykernel)",
   "language": "python",
   "name": "python3"
  },
  "language_info": {
   "codemirror_mode": {
    "name": "ipython",
    "version": 3
   },
   "file_extension": ".py",
   "mimetype": "text/x-python",
   "name": "python",
   "nbconvert_exporter": "python",
   "pygments_lexer": "ipython3",
   "version": "3.9.12"
  }
 },
 "nbformat": 4,
 "nbformat_minor": 2
}
